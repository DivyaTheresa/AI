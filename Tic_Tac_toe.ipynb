{
  "nbformat": 4,
  "nbformat_minor": 0,
  "metadata": {
    "colab": {
      "provenance": [],
      "authorship_tag": "ABX9TyM7ImZvACbhwux0UKMG45lM",
      "include_colab_link": true
    },
    "kernelspec": {
      "name": "python3",
      "display_name": "Python 3"
    },
    "language_info": {
      "name": "python"
    }
  },
  "cells": [
    {
      "cell_type": "markdown",
      "metadata": {
        "id": "view-in-github",
        "colab_type": "text"
      },
      "source": [
        "<a href=\"https://colab.research.google.com/github/DivyaTheresa/AI/blob/main/Tic_Tac_toe.ipynb\" target=\"_parent\"><img src=\"https://colab.research.google.com/assets/colab-badge.svg\" alt=\"Open In Colab\"/></a>"
      ]
    },
    {
      "cell_type": "code",
      "execution_count": null,
      "metadata": {
        "id": "jn9j-WRNXkVp"
      },
      "outputs": [],
      "source": [
        "# Tic-Tac-Toe Program using\n",
        "# random number in Python\n",
        "\n",
        "# imporƟng all necessary libraries\n",
        "import numpy as np\n",
        "import random\n",
        "from time import sleep"
      ]
    },
    {
      "cell_type": "code",
      "source": [
        "# Creates an empty board\n",
        "def create_board():\n",
        " return(np.array([[0, 0, 0],\n",
        " [0, 0, 0],\n",
        " [0, 0, 0]]))"
      ],
      "metadata": {
        "id": "ViR-FjGKYj4c"
      },
      "execution_count": null,
      "outputs": []
    },
    {
      "cell_type": "code",
      "source": [
        "# Check for empty places on board\n",
        "\n",
        "def possibiliƟes(board):\n",
        " l = []\n",
        "\n",
        " for i in range(len(board)):\n",
        "  for j in range(len(board)):\n",
        "\n",
        "   if board[i][j] == 0:\n",
        "    l.append((i, j))\n",
        " return(l)"
      ],
      "metadata": {
        "id": "ZPj0j8gXY33t"
      },
      "execution_count": null,
      "outputs": []
    },
    {
      "cell_type": "code",
      "source": [
        "# Select a random place for the player\n",
        "\n",
        "def random_place(board, player):\n",
        " selecƟon = possibiliƟes(board)\n",
        " current_loc = random.choice(selecƟon)\n",
        " board[current_loc] = player\n",
        " return(board)\n"
      ],
      "metadata": {
        "id": "iS3NZ3ZeY5Ek"
      },
      "execution_count": null,
      "outputs": []
    },
    {
      "cell_type": "code",
      "source": [
        "# Checks whether the player has three\n",
        "# of their marks in a horizontal row\n",
        "\n",
        "def row_win(board, player):\n",
        " for x in range(len(board)):\n",
        "  win = True\n",
        "\n",
        "  for y in range(len(board)):\n",
        "   if board[x, y] != player:\n",
        "     win = False\n",
        "     continue\n",
        "     if win == True:\n",
        "      return(win)\n",
        "      return(win)\n",
        "\n"
      ],
      "metadata": {
        "id": "Y_LFsqacY_Db"
      },
      "execution_count": null,
      "outputs": []
    },
    {
      "cell_type": "code",
      "source": [
        "# Checks whether the player has three\n",
        "# of their marks in a verƟcal row\n",
        "\n",
        "def col_win(board, player):\n",
        "  for x in range(len(board)):\n",
        "   win = True\n",
        "\n",
        "  for y in range(len(board)):\n",
        "      if board[y][x] != player:\n",
        "        win = False\n",
        "        continue\n",
        "\n",
        "        if win == True:\n",
        "         return(win)\n",
        "         return(win)\n"
      ],
      "metadata": {
        "id": "mpEUmR6WZENc"
      },
      "execution_count": null,
      "outputs": []
    },
    {
      "cell_type": "code",
      "source": [
        "# Checks whether the player has three\n",
        "# of their marks in a diagonal row\n",
        "\n",
        "def diag_win(board, player):\n",
        "  win = True\n",
        "  y = 0\n",
        "  for x in range(len(board)):\n",
        "       if board[x, x] != player:\n",
        "        win = False\n",
        "      if win:\n",
        "         return win\n",
        "        win = True\n",
        "         if win:\n",
        "            for x in range(len(board)):\n",
        "               y = len(board) - 1 - x\n",
        "               if board[x, y] != player:\n",
        "                win = False\n",
        "                return win\n"
      ],
      "metadata": {
        "colab": {
          "base_uri": "https://localhost:8080/",
          "height": 110
        },
        "id": "Uy-iGdazZNrX",
        "outputId": "4946a267-471c-47e0-c380-a0d551cb97c0"
      },
      "execution_count": null,
      "outputs": [
        {
          "output_type": "error",
          "ename": "IndentationError",
          "evalue": "unindent does not match any outer indentation level (<tokenize>, line 10)",
          "traceback": [
            "\u001b[0;36m  File \u001b[0;32m\"<tokenize>\"\u001b[0;36m, line \u001b[0;32m10\u001b[0m\n\u001b[0;31m    if win:\u001b[0m\n\u001b[0m    ^\u001b[0m\n\u001b[0;31mIndentationError\u001b[0m\u001b[0;31m:\u001b[0m unindent does not match any outer indentation level\n"
          ]
        }
      ]
    },
    {
      "cell_type": "code",
      "source": [
        "# Evaluates whether there is\n",
        "\n",
        "# a winner or a Ɵe\n",
        "\n",
        "def evaluate(board):\n",
        " winner = 0\n",
        "\n",
        "for player in [1, 2]:\n",
        "if (row_win(board, player) or\n",
        "col_win(board, player) or\n",
        "diag_win(board, player)):\n",
        "\n",
        "winner = player\n",
        "\n",
        "if np.all(board != 0) and winner == 0:\n",
        "winner = -1\n",
        "return winner"
      ],
      "metadata": {
        "id": "flSSOlLeZRjP"
      },
      "execution_count": null,
      "outputs": []
    },
    {
      "cell_type": "code",
      "source": [
        "# Main funcƟon to start the game\n",
        "\n",
        "def play_game():\n",
        "  board, winner, counter = create_board(), 0, 1\n",
        "   print(board)\n",
        "     sleep(2)\n",
        "\n",
        " while winner == 0:\n",
        "   for player in [1, 2]:\n",
        "     board = random_place(board, player)\n",
        "     print(\"Board aŌer \" + str(counter) + \" move\")\n",
        "     print(board)\n",
        "sleep(2)\n",
        "\n",
        "counter += 1\n",
        "winner = evaluate(board)\n",
        "if winner != 0:\n",
        " break\n",
        "return(winner)\n"
      ],
      "metadata": {
        "id": "JIidMpKsZWa_"
      },
      "execution_count": null,
      "outputs": []
    },
    {
      "cell_type": "code",
      "source": [
        "# Driver Code\n",
        "print(\"Winner is: \" + str(play_game()))"
      ],
      "metadata": {
        "id": "5ZUPC7H8Zbt8"
      },
      "execution_count": null,
      "outputs": []
    }
  ]
}