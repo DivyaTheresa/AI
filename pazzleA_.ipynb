{
  "nbformat": 4,
  "nbformat_minor": 0,
  "metadata": {
    "colab": {
      "provenance": [],
      "authorship_tag": "ABX9TyPB3j5A6n8vlkV/8kmrlafV",
      "include_colab_link": true
    },
    "kernelspec": {
      "name": "python3",
      "display_name": "Python 3"
    },
    "language_info": {
      "name": "python"
    }
  },
  "cells": [
    {
      "cell_type": "markdown",
      "metadata": {
        "id": "view-in-github",
        "colab_type": "text"
      },
      "source": [
        "<a href=\"https://colab.research.google.com/github/DivyaTheresa/AI/blob/main/pazzleA_.ipynb\" target=\"_parent\"><img src=\"https://colab.research.google.com/assets/colab-badge.svg\" alt=\"Open In Colab\"/></a>"
      ]
    },
    {
      "cell_type": "markdown",
      "source": [
        "* pazzle problem using A* algoritam.\n"
      ],
      "metadata": {
        "id": "Se42tlKmdfWE"
      }
    },
    {
      "cell_type": "code",
      "execution_count": null,
      "metadata": {
        "id": "kzqUgCwCdYJi"
      },
      "outputs": [],
      "source": [
        "class node:\n",
        "  def __init__(self, data, level, fval):\n",
        "    self.data = data\n",
        "    self.level = level\n",
        "    self.fval = fval\n",
        "  def generate_child(self):\n",
        "    x,y = self.find(self.data,'_')\n",
        "    val_list = [[x,y-1],[x,y+1],[x-1,y],[x+1,y]]\n",
        "    children = []\n",
        "    for i in val_list:\n",
        "      child = self.shuffle(self,self.data,x,y,i[0],i[1])\n",
        "      if child is not None:\n",
        "        child_node = node(child,self.level+1,0)\n",
        "        children.append(child_node)\n",
        "    return children\n"
      ]
    },
    {
      "cell_type": "code",
      "source": [
        "def shuffle(self,puz,x1,y1,x2,y2):\n",
        "  if x2>=0 and x2<len(self.data) and y2>=0 and y2<len(self.data):\n",
        "    temp = self.data[x2][y2]\n",
        "    puz[x2][y2] = puz[x1][y1]\n",
        "    puz[x1][y1] = temp\n",
        "    return puz\n",
        "  else:\n",
        "    return None"
      ],
      "metadata": {
        "id": "MTpU3wWfeqNb"
      },
      "execution_count": null,
      "outputs": []
    },
    {
      "cell_type": "code",
      "source": [
        "def copy(self,root):\n",
        "  temp = []\n",
        "  for i in root:\n",
        "    t = []\n",
        "    for j in i:\n",
        "      t.append(j)\n",
        "    temp.append(t)\n",
        "  return temp\n"
      ],
      "metadata": {
        "id": "hJTEDQJAe5sC"
      },
      "execution_count": null,
      "outputs": []
    },
    {
      "cell_type": "code",
      "source": [
        "def find(self,puz,x):\n",
        "  for i in range(0,len(self.data)):\n",
        "    for j in range(0,len(self.data)):\n",
        "      if puz[i][j] == x:\n",
        "        return i,j"
      ],
      "metadata": {
        "id": "AVG2Atq7fA2L"
      },
      "execution_count": null,
      "outputs": []
    },
    {
      "cell_type": "code",
      "source": [
        "class Puzzle:\n",
        "  def __init__(self,size):\n",
        "    self.n = size\n",
        "    self.open = []\n",
        "    self.closed = []"
      ],
      "metadata": {
        "id": "GWdK7f2LfnjT"
      },
      "execution_count": null,
      "outputs": []
    },
    {
      "cell_type": "code",
      "source": [
        "def accept(self):\n",
        "  puz = []\n",
        "  for i in range(0,self.n):\n",
        "    temp = input().split(\" \")\n",
        "    puz.append(temp)\n",
        "  return puz\n"
      ],
      "metadata": {
        "id": "GeEnhSYhf61D"
      },
      "execution_count": null,
      "outputs": []
    },
    {
      "cell_type": "code",
      "source": [
        "def f(self,start,goal):\n",
        "  return self.h(start.data,goal)+start.level"
      ],
      "metadata": {
        "id": "vbOVc0pOf_E0"
      },
      "execution_count": null,
      "outputs": []
    },
    {
      "cell_type": "code",
      "source": [
        "def h(self,start,goal):\n",
        "    temp=0\n",
        "    for i in range(0,self.n):\n",
        "      for j in range(0,self.n):\n",
        "        if start[i][j] != goal[i][j] and start[i][j] != '_':\n",
        "          temp += 1\n",
        "          return temp\n"
      ],
      "metadata": {
        "id": "Q-DsIwHRgCFD"
      },
      "execution_count": null,
      "outputs": []
    },
    {
      "cell_type": "code",
      "source": [
        "def process():\n",
        "  print(\"Enter the size of the puzzle\")\n",
        "  start =self.accept()\n",
        "  print(\"Enter the initial state of the puzzle\")\n",
        "  goal = self.accept()\n",
        "  start = node(start,0,0)\n",
        "  start.fval = self.f(start,goal)\n",
        "  self.open.append(start)\n",
        "  print(\"\\n\\n\")\n",
        "  while True:\n",
        "    cur = self.open[0]\n",
        "    print(\"\")\n",
        "    print(\"  | \")\n",
        "    print(\"  | \")\n",
        "    print(\" \\\\\\'/ \\n\")\n",
        "    for i in cur.data:\n",
        "      for j in i:\n",
        "        print(j,end=\" \")\n",
        "      print(\"\")"
      ],
      "metadata": {
        "id": "GKVAW0gJgWqj"
      },
      "execution_count": null,
      "outputs": []
    },
    {
      "cell_type": "code",
      "source": [
        " if(self.h(cur.data,goal) == 0):\n",
        "                break\n",
        "       for i in cur.generate_child():\n",
        "                i.fval = self.f(i,goal)\n",
        "                self.open.append(i)\n",
        "       self.closed.append(cur)\n",
        "       del self.open[0]\n",
        "\n",
        "            \"\"\" sort the opne list based on f value \"\"\"\n",
        "       self.open.sort(key = lambda x:x.fval,reverse=False)"
      ],
      "metadata": {
        "colab": {
          "base_uri": "https://localhost:8080/",
          "height": 106
        },
        "id": "GJyqGfH9g3G7",
        "outputId": "600f278f-1cfe-4f66-f974-2cd729c51ac1"
      },
      "execution_count": null,
      "outputs": [
        {
          "output_type": "error",
          "ename": "IndentationError",
          "evalue": "unindent does not match any outer indentation level (<tokenize>, line 3)",
          "traceback": [
            "\u001b[0;36m  File \u001b[0;32m\"<tokenize>\"\u001b[0;36m, line \u001b[0;32m3\u001b[0m\n\u001b[0;31m    for i in cur.generate_child():\u001b[0m\n\u001b[0m    ^\u001b[0m\n\u001b[0;31mIndentationError\u001b[0m\u001b[0;31m:\u001b[0m unindent does not match any outer indentation level\n"
          ]
        }
      ]
    }
  ]
}